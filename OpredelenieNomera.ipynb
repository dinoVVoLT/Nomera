{
 "cells": [
  {
   "cell_type": "code",
   "execution_count": 1,
   "metadata": {},
   "outputs": [
    {
     "name": "stdout",
     "output_type": "stream",
     "text": [
      "WARNING:tensorflow:From C:\\Users\\IQ-6\\Anaconda3\\envs\\Nomera\\lib\\site-packages\\keras\\backend\\tensorflow_backend.py:517: The name tf.placeholder is deprecated. Please use tf.compat.v1.placeholder instead.\n",
      "\n",
      "WARNING:tensorflow:From C:\\Users\\IQ-6\\Anaconda3\\envs\\Nomera\\lib\\site-packages\\keras\\backend\\tensorflow_backend.py:4138: The name tf.random_uniform is deprecated. Please use tf.random.uniform instead.\n",
      "\n",
      "WARNING:tensorflow:From C:\\Users\\IQ-6\\Anaconda3\\envs\\Nomera\\lib\\site-packages\\keras\\backend\\tensorflow_backend.py:245: The name tf.get_default_graph is deprecated. Please use tf.compat.v1.get_default_graph instead.\n",
      "\n",
      "WARNING:tensorflow:From C:\\Users\\IQ-6\\Anaconda3\\envs\\Nomera\\lib\\site-packages\\keras\\backend\\tensorflow_backend.py:174: The name tf.get_default_session is deprecated. Please use tf.compat.v1.get_default_session instead.\n",
      "\n",
      "WARNING:tensorflow:From C:\\Users\\IQ-6\\Anaconda3\\envs\\Nomera\\lib\\site-packages\\keras\\backend\\tensorflow_backend.py:181: The name tf.ConfigProto is deprecated. Please use tf.compat.v1.ConfigProto instead.\n",
      "\n",
      "WARNING:tensorflow:From C:\\Users\\IQ-6\\Anaconda3\\envs\\Nomera\\lib\\site-packages\\keras\\backend\\tensorflow_backend.py:186: The name tf.Session is deprecated. Please use tf.compat.v1.Session instead.\n",
      "\n",
      "WARNING:tensorflow:From C:\\Users\\IQ-6\\Anaconda3\\envs\\Nomera\\lib\\site-packages\\keras\\backend\\tensorflow_backend.py:190: The name tf.global_variables is deprecated. Please use tf.compat.v1.global_variables instead.\n",
      "\n",
      "WARNING:tensorflow:From C:\\Users\\IQ-6\\Anaconda3\\envs\\Nomera\\lib\\site-packages\\keras\\backend\\tensorflow_backend.py:199: The name tf.is_variable_initialized is deprecated. Please use tf.compat.v1.is_variable_initialized instead.\n",
      "\n"
     ]
    },
    {
     "name": "stderr",
     "output_type": "stream",
     "text": [
      "Using TensorFlow backend.\n"
     ]
    },
    {
     "name": "stdout",
     "output_type": "stream",
     "text": [
      "WARNING:tensorflow:From C:\\Users\\IQ-6\\Anaconda3\\envs\\Nomera\\lib\\site-packages\\keras\\backend\\tensorflow_backend.py:206: The name tf.variables_initializer is deprecated. Please use tf.compat.v1.variables_initializer instead.\n",
      "\n",
      "WARNING:tensorflow:From C:\\Users\\IQ-6\\Anaconda3\\envs\\Nomera\\lib\\site-packages\\keras\\backend\\tensorflow_backend.py:1834: The name tf.nn.fused_batch_norm is deprecated. Please use tf.compat.v1.nn.fused_batch_norm instead.\n",
      "\n",
      "WARNING:tensorflow:From C:\\Users\\IQ-6\\Anaconda3\\envs\\Nomera\\lib\\site-packages\\keras\\backend\\tensorflow_backend.py:133: The name tf.placeholder_with_default is deprecated. Please use tf.compat.v1.placeholder_with_default instead.\n",
      "\n",
      "WARNING:tensorflow:From C:\\Users\\IQ-6\\Anaconda3\\envs\\Nomera\\lib\\site-packages\\keras\\backend\\tensorflow_backend.py:3976: The name tf.nn.max_pool is deprecated. Please use tf.nn.max_pool2d instead.\n",
      "\n",
      "WARNING:tensorflow:From C:\\Users\\IQ-6\\Anaconda3\\envs\\Nomera\\lib\\site-packages\\keras\\backend\\tensorflow_backend.py:3445: calling dropout (from tensorflow.python.ops.nn_ops) with keep_prob is deprecated and will be removed in a future version.\n",
      "Instructions for updating:\n",
      "Please use `rate` instead of `keep_prob`. Rate should be set to `rate = 1 - keep_prob`.\n",
      "WARNING:tensorflow:From C:\\Users\\IQ-6\\Anaconda3\\envs\\Nomera\\lib\\site-packages\\keras\\optimizers.py:790: The name tf.train.Optimizer is deprecated. Please use tf.compat.v1.train.Optimizer instead.\n",
      "\n",
      "WARNING:tensorflow:From C:\\Users\\IQ-6\\Anaconda3\\envs\\Nomera\\lib\\site-packages\\keras\\backend\\tensorflow_backend.py:3295: The name tf.log is deprecated. Please use tf.math.log instead.\n",
      "\n",
      "WARNING:tensorflow:From C:\\Users\\IQ-6\\Anaconda3\\envs\\Nomera\\lib\\site-packages\\tensorflow_core\\python\\ops\\math_grad.py:1424: where (from tensorflow.python.ops.array_ops) is deprecated and will be removed in a future version.\n",
      "Instructions for updating:\n",
      "Use tf.where in 2.0, which has the same broadcast rule as np.where\n",
      "WARNING:tensorflow:From C:\\Users\\IQ-6\\Anaconda3\\envs\\Nomera\\lib\\site-packages\\keras\\backend\\tensorflow_backend.py:986: The name tf.assign_add is deprecated. Please use tf.compat.v1.assign_add instead.\n",
      "\n",
      "WARNING:tensorflow:From C:\\Users\\IQ-6\\Anaconda3\\envs\\Nomera\\lib\\site-packages\\keras\\backend\\tensorflow_backend.py:973: The name tf.assign is deprecated. Please use tf.compat.v1.assign instead.\n",
      "\n"
     ]
    }
   ],
   "source": [
    "import cv2\n",
    "import numpy as np\n",
    "import os\n",
    "import PIL\n",
    "import tensorflow\n",
    "from keras.models import load_model\n",
    "import time\n",
    "import pytesseract\n",
    "#Делаем размер картинки 40 на 40 пкс\n",
    "def scale(PicName): \n",
    "    size = (40,40)\n",
    "    resizedPic = cv2.resize(PicName, size, interpolation = cv2.INTER_AREA)\n",
    "    return resizedPic\n",
    "#Открытие картинки\n",
    "def openPicture(PicName):\n",
    "    image = cv2.imread(PicName)\n",
    "    return image\n",
    "#Показ картинки в окне\n",
    "def showPicture(PicName):\n",
    "    cv2.namedWindow('kartinka', cv2.WINDOW_NORMAL)\n",
    "    cv2.imshow('kartinka', PicName)\n",
    "    cv2.waitKey(0)\n",
    "    cv2.destroyAllWindows()\n",
    "#Делаем картинку черно-белой\n",
    "def transform_gray(PicName):\n",
    "    gray_pic = cv2.cvtColor(PicName, cv2.COLOR_BGR2GRAY)\n",
    "    threshold_image = cv2.threshold(gray_pic, 127,255,0)[1]\n",
    "    return threshold_image\n",
    "\n",
    "model = load_model('C:\\\\GitNomera\\\\NomeraNeiro.HDF5')\n",
    "\n",
    "os.chdir('c://test//cars')"
   ]
  },
  {
   "cell_type": "code",
   "execution_count": 3,
   "metadata": {},
   "outputs": [],
   "source": [
    "Cascade = cv2.CascadeClassifier('c:\\haarscade\\haarcascade_russian_plate_number.xml')\n",
    "InetPic = cv2.imread('000.jpg')\n",
    "InetPic1=InetPic\n",
    "gray = cv2.cvtColor(InetPic, cv2.COLOR_BGR2GRAY)\n",
    "plaques = Cascade.detectMultiScale(gray, 1.3, 5)"
   ]
  },
  {
   "cell_type": "code",
   "execution_count": 4,
   "metadata": {},
   "outputs": [
    {
     "data": {
      "text/plain": [
       "'c:\\\\test\\\\cars'"
      ]
     },
     "execution_count": 4,
     "metadata": {},
     "output_type": "execute_result"
    }
   ],
   "source": [
    "os.getcwd()"
   ]
  },
  {
   "cell_type": "code",
   "execution_count": 5,
   "metadata": {},
   "outputs": [],
   "source": [
    "img=cv2.imread('1.jpg')\n",
    "gray = cv2.cvtColor(img, cv2.COLOR_BGR2GRAY)\n",
    "plaques = Cascade.detectMultiScale(gray, 1.3, 5)"
   ]
  },
  {
   "cell_type": "code",
   "execution_count": 6,
   "metadata": {},
   "outputs": [],
   "source": [
    "for i, (x, y, w, h) in enumerate(plaques):\n",
    "    roi_color = img[y+10:y + h-10, x+10:x + w-15]\n",
    "    r = 400.0 / roi_color.shape[1]\n",
    "    dim = (400, int(roi_color.shape[0] * r))\n",
    "    resized = cv2.resize(roi_color, dim, interpolation = cv2.INTER_AREA)"
   ]
  },
  {
   "cell_type": "code",
   "execution_count": 7,
   "metadata": {},
   "outputs": [],
   "source": [
    "from tkinter import messagebox as mb"
   ]
  },
  {
   "cell_type": "code",
   "execution_count": 8,
   "metadata": {},
   "outputs": [],
   "source": [
    "pytesseract.pytesseract.tesseract_cmd = r'C:\\Program Files\\Tesseract-OCR\\tesseract'\n",
    "nomer =(pytesseract.image_to_string(resized, lang='rus'))\n",
    "showPicture(resized)"
   ]
  },
  {
   "cell_type": "code",
   "execution_count": 11,
   "metadata": {},
   "outputs": [
    {
     "name": "stdout",
     "output_type": "stream",
     "text": [
      "0\n",
      "4\n",
      "5\n",
      "8\n"
     ]
    }
   ],
   "source": [
    "stro=[]\n",
    "for i in range(len(nomer)):\n",
    "    if i==(0):\n",
    "        print(i)\n",
    "        if nomer[i]=='0':\n",
    "            stro.append('o')\n",
    "    elif i==(4):\n",
    "        print(i)\n",
    "        if nomer[i]=='0':\n",
    "            stro.append('o')\n",
    "    elif i==(5):\n",
    "        print(i)\n",
    "        if nomer[i]=='0':\n",
    "            stro.append('o')\n",
    "    elif nomer[i]==(':'):\n",
    "        print(i)\n",
    "        stro.append('')\n",
    "    elif nomer[i]==('.'):\n",
    "        print(i)\n",
    "        stro.append('')\n",
    "    elif nomer[i]==('!'):\n",
    "        print(i)\n",
    "        stro.append('')\n",
    "    else:\n",
    "        stro.append(nomer[i])"
   ]
  },
  {
   "cell_type": "code",
   "execution_count": 13,
   "metadata": {},
   "outputs": [],
   "source": [
    "mystr = '_'.join(stro)"
   ]
  },
  {
   "cell_type": "code",
   "execution_count": 14,
   "metadata": {},
   "outputs": [],
   "source": [
    "showPicture(resized)\n",
    "mb.showinfo(\"NOMER\",\"Номер на картинке: \"+mystr)\n",
    "cv2.destroyAllWindows()"
   ]
  },
  {
   "cell_type": "code",
   "execution_count": null,
   "metadata": {},
   "outputs": [],
   "source": [
    "stro"
   ]
  }
 ],
 "metadata": {
  "kernelspec": {
   "display_name": "Python 3",
   "language": "python",
   "name": "python3"
  },
  "language_info": {
   "codemirror_mode": {
    "name": "ipython",
    "version": 3
   },
   "file_extension": ".py",
   "mimetype": "text/x-python",
   "name": "python",
   "nbconvert_exporter": "python",
   "pygments_lexer": "ipython3",
   "version": "3.6.9"
  }
 },
 "nbformat": 4,
 "nbformat_minor": 2
}
